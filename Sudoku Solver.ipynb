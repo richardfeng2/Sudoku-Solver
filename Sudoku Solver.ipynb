{
 "cells": [
  {
   "cell_type": "code",
   "execution_count": 59,
   "metadata": {},
   "outputs": [
    {
     "data": {
      "text/plain": [
       "[[1, 2, 3, 4, 5, 6, 7, 8, 9],\n",
       " [0, 0, 0, 0, 0, 0, 0, 0, 0],\n",
       " [0, 0, 0, 0, 0, 0, 0, 0, 0],\n",
       " [0, 0, 0, 0, 0, 0, 0, 0, 0],\n",
       " [0, 0, 0, 0, 0, 0, 0, 0, 0],\n",
       " [0, 0, 0, 0, 0, 0, 0, 0, 0],\n",
       " [0, 0, 0, 0, 0, 0, 0, 0, 0],\n",
       " [0, 0, 0, 0, 0, 0, 0, 0, 0],\n",
       " [0, 0, 0, 0, 0, 0, 0, 0, 0]]"
      ]
     },
     "execution_count": 59,
     "metadata": {},
     "output_type": "execute_result"
    }
   ],
   "source": [
    "l1 = [1,2,3,4,5,6,7,8,9]\n",
    "l2 = [0,0,0,0,0,0,0,0,0]\n",
    "l3 = [0,0,0,0,0,0,0,0,0]\n",
    "l4 = [0,0,0,0,0,0,0,0,0]\n",
    "l5 = [0,0,0,0,0,0,0,0,0]\n",
    "l6 = [0,0,0,0,0,0,0,0,0]\n",
    "l7 = [0,0,0,0,0,0,0,0,0]\n",
    "l8 = [0,0,0,0,0,0,0,0,0]\n",
    "l8 = [0,0,0,0,0,0,0,0,0]\n",
    "l9 = [0,0,0,0,0,0,0,0,0]\n",
    "\n",
    "matrix = [l1,l2,l3,l4,l5,l6,l7,l8,l9]\n",
    "\n",
    "matrix"
   ]
  },
  {
   "cell_type": "code",
   "execution_count": 79,
   "metadata": {},
   "outputs": [],
   "source": [
    "#Define method to test if values in each list are unique, i.e. should be 1 to 9 \n",
    "\n",
    "def rows_unique(self):\n",
    "    for l in self:\n",
    "        #store list into a set, which keeps only unique values, then check if set length != list length (values  not all unique)\n",
    "        if len(set(l)) != len(l) :\n",
    "            return False\n",
    "            print(\" \")\n",
    "    #Return true since all elements in all 9 lists are unique\n",
    "    return True\n",
    "        "
   ]
  },
  {
   "cell_type": "code",
   "execution_count": 80,
   "metadata": {},
   "outputs": [
    {
     "data": {
      "text/plain": [
       "False"
      ]
     },
     "execution_count": 80,
     "metadata": {},
     "output_type": "execute_result"
    }
   ],
   "source": [
    "rows_unique(matrix)"
   ]
  },
  {
   "cell_type": "code",
   "execution_count": 81,
   "metadata": {},
   "outputs": [],
   "source": [
    "#Define method which returns True if all lists adds to 45 each, i.e totals of values 1 to 9\n",
    "\n",
    "def rows_sum(self):\n",
    "     \n",
    "    for l in self:\n",
    "        target_sum = 1+2+3+4+5+6+7+8+9\n",
    "        counter = 0\n",
    "\n",
    "        for n in l : counter += n\n",
    "        \n",
    "        if counter != target_sum : return False #exit loop early\n",
    "        \n",
    "    return True\n"
   ]
  },
  {
   "cell_type": "code",
   "execution_count": 82,
   "metadata": {},
   "outputs": [
    {
     "data": {
      "text/plain": [
       "False"
      ]
     },
     "execution_count": 82,
     "metadata": {},
     "output_type": "execute_result"
    }
   ],
   "source": [
    "rows_sum(matrix)"
   ]
  },
  {
   "cell_type": "code",
   "execution_count": null,
   "metadata": {},
   "outputs": [],
   "source": [
    "#to do: do same checks for columns"
   ]
  },
  {
   "cell_type": "code",
   "execution_count": null,
   "metadata": {},
   "outputs": [],
   "source": []
  }
 ],
 "metadata": {
  "kernelspec": {
   "display_name": "Python 3",
   "language": "python",
   "name": "python3"
  },
  "language_info": {
   "codemirror_mode": {
    "name": "ipython",
    "version": 3
   },
   "file_extension": ".py",
   "mimetype": "text/x-python",
   "name": "python",
   "nbconvert_exporter": "python",
   "pygments_lexer": "ipython3",
   "version": "3.7.3"
  }
 },
 "nbformat": 4,
 "nbformat_minor": 2
}
